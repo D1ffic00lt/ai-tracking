{
 "nbformat": 4,
 "nbformat_minor": 0,
 "metadata": {
  "colab": {
   "provenance": [],
   "machine_shape": "hm",
   "gpuType": "L4"
  },
  "kernelspec": {
   "name": "python3",
   "display_name": "Python 3 (ipykernel)",
   "language": "python"
  },
  "language_info": {
   "name": "python"
  },
  "accelerator": "GPU"
 },
 "cells": [
  {
   "cell_type": "code",
   "execution_count": null,
   "metadata": {
    "id": "0hHXXFb2DFvJ",
    "outputId": "e1962a3d-8bf8-4875-be70-780d7e51ae46",
    "colab": {
     "base_uri": "https://localhost:8080/"
    }
   },
   "outputs": [
    {
     "output_type": "stream",
     "name": "stdout",
     "text": [
      "Dataset URL: https://www.kaggle.com/datasets/antoreepjana/animals-detection-images-dataset\n",
      "License(s): CC0-1.0\n",
      "Downloading animals-detection-images-dataset.zip to /content\n",
      "100% 8.92G/8.92G [05:07<00:00, 33.3MB/s]\n",
      "100% 8.92G/8.92G [05:08<00:00, 31.1MB/s]\n"
     ]
    }
   ],
   "source": [
    "!kaggle datasets download -d antoreepjana/animals-detection-images-dataset"
   ]
  },
  {
   "cell_type": "code",
   "source": [
    "!unzip -qq ./drive/MyDrive/Архив.zip -d ./"
   ],
   "metadata": {
    "id": "sryz5ULda96s"
   },
   "execution_count": null,
   "outputs": []
  },
  {
   "cell_type": "code",
   "source": [
    "!unzip -qq animals-detection-images-dataset.zip -d ./drive/MyDrive/animals-dataset"
   ],
   "metadata": {
    "id": "ZsLKyDSeDJVu"
   },
   "execution_count": null,
   "outputs": []
  },
  {
   "cell_type": "markdown",
   "source": [
    "# YOLOv5 setup"
   ],
   "metadata": {
    "id": "Jvt2mDkOFqSL"
   }
  },
  {
   "cell_type": "code",
   "source": [
    "!git clone https://github.com/ultralytics/yolov5"
   ],
   "metadata": {
    "colab": {
     "base_uri": "https://localhost:8080/"
    },
    "id": "MDRiAMl5FrEy",
    "outputId": "df319e7b-d843-4ee4-cd88-117a0c9f764a"
   },
   "execution_count": null,
   "outputs": [
    {
     "output_type": "stream",
     "name": "stdout",
     "text": [
      "Cloning into 'yolov5'...\n",
      "remote: Enumerating objects: 16680, done.\u001B[K\n",
      "remote: Counting objects: 100% (221/221), done.\u001B[K\n",
      "remote: Compressing objects: 100% (160/160), done.\u001B[K\n",
      "remote: Total 16680 (delta 102), reused 131 (delta 61), pack-reused 16459\u001B[K\n",
      "Receiving objects: 100% (16680/16680), 15.32 MiB | 12.35 MiB/s, done.\n",
      "Resolving deltas: 100% (11408/11408), done.\n"
     ]
    }
   ]
  },
  {
   "cell_type": "code",
   "source": [
    "!cd yolov5; pip install -r requirements.txt"
   ],
   "metadata": {
    "colab": {
     "base_uri": "https://localhost:8080/"
    },
    "id": "YcyDiIUrFvBl",
    "outputId": "df9c1f94-522e-4e06-ce4d-eff8b7179757"
   },
   "execution_count": null,
   "outputs": [
    {
     "output_type": "stream",
     "name": "stdout",
     "text": [
      "Collecting gitpython>=3.1.30 (from -r requirements.txt (line 5))\n",
      "  Downloading GitPython-3.1.43-py3-none-any.whl (207 kB)\n",
      "\u001B[?25l     \u001B[90m━━━━━━━━━━━━━━━━━━━━━━━━━━━━━━━━━━━━━━━━\u001B[0m \u001B[32m0.0/207.3 kB\u001B[0m \u001B[31m?\u001B[0m eta \u001B[36m-:--:--\u001B[0m\r\u001B[2K     \u001B[91m━━━━━━━━━━━━━━━━━━━━━━━━━━━\u001B[0m\u001B[91m╸\u001B[0m\u001B[90m━━━━━━━━━━━━\u001B[0m \u001B[32m143.4/207.3 kB\u001B[0m \u001B[31m4.1 MB/s\u001B[0m eta \u001B[36m0:00:01\u001B[0m\r\u001B[2K     \u001B[90m━━━━━━━━━━━━━━━━━━━━━━━━━━━━━━━━━━━━━━━━\u001B[0m \u001B[32m207.3/207.3 kB\u001B[0m \u001B[31m4.5 MB/s\u001B[0m eta \u001B[36m0:00:00\u001B[0m\n",
      "\u001B[?25hRequirement already satisfied: matplotlib>=3.3 in /usr/local/lib/python3.10/dist-packages (from -r requirements.txt (line 6)) (3.7.1)\n",
      "Requirement already satisfied: numpy>=1.23.5 in /usr/local/lib/python3.10/dist-packages (from -r requirements.txt (line 7)) (1.25.2)\n",
      "Requirement already satisfied: opencv-python>=4.1.1 in /usr/local/lib/python3.10/dist-packages (from -r requirements.txt (line 8)) (4.8.0.76)\n",
      "Collecting pillow>=10.3.0 (from -r requirements.txt (line 9))\n",
      "  Downloading pillow-10.3.0-cp310-cp310-manylinux_2_28_x86_64.whl (4.5 MB)\n",
      "\u001B[2K     \u001B[90m━━━━━━━━━━━━━━━━━━━━━━━━━━━━━━━━━━━━━━━━\u001B[0m \u001B[32m4.5/4.5 MB\u001B[0m \u001B[31m55.3 MB/s\u001B[0m eta \u001B[36m0:00:00\u001B[0m\n",
      "\u001B[?25hRequirement already satisfied: psutil in /usr/local/lib/python3.10/dist-packages (from -r requirements.txt (line 10)) (5.9.5)\n",
      "Requirement already satisfied: PyYAML>=5.3.1 in /usr/local/lib/python3.10/dist-packages (from -r requirements.txt (line 11)) (6.0.1)\n",
      "Collecting requests>=2.32.0 (from -r requirements.txt (line 12))\n",
      "  Downloading requests-2.32.3-py3-none-any.whl (64 kB)\n",
      "\u001B[2K     \u001B[90m━━━━━━━━━━━━━━━━━━━━━━━━━━━━━━━━━━━━━━━━\u001B[0m \u001B[32m64.9/64.9 kB\u001B[0m \u001B[31m10.0 MB/s\u001B[0m eta \u001B[36m0:00:00\u001B[0m\n",
      "\u001B[?25hRequirement already satisfied: scipy>=1.4.1 in /usr/local/lib/python3.10/dist-packages (from -r requirements.txt (line 13)) (1.11.4)\n",
      "Collecting thop>=0.1.1 (from -r requirements.txt (line 14))\n",
      "  Downloading thop-0.1.1.post2209072238-py3-none-any.whl (15 kB)\n",
      "Requirement already satisfied: torch>=1.8.0 in /usr/local/lib/python3.10/dist-packages (from -r requirements.txt (line 15)) (2.3.0+cu121)\n",
      "Requirement already satisfied: torchvision>=0.9.0 in /usr/local/lib/python3.10/dist-packages (from -r requirements.txt (line 16)) (0.18.0+cu121)\n",
      "Requirement already satisfied: tqdm>=4.64.0 in /usr/local/lib/python3.10/dist-packages (from -r requirements.txt (line 17)) (4.66.4)\n",
      "Collecting ultralytics>=8.2.34 (from -r requirements.txt (line 18))\n",
      "  Downloading ultralytics-8.2.45-py3-none-any.whl (793 kB)\n",
      "\u001B[2K     \u001B[90m━━━━━━━━━━━━━━━━━━━━━━━━━━━━━━━━━━━━━━━━\u001B[0m \u001B[32m793.6/793.6 kB\u001B[0m \u001B[31m59.4 MB/s\u001B[0m eta \u001B[36m0:00:00\u001B[0m\n",
      "\u001B[?25hRequirement already satisfied: pandas>=1.1.4 in /usr/local/lib/python3.10/dist-packages (from -r requirements.txt (line 27)) (2.0.3)\n",
      "Requirement already satisfied: seaborn>=0.11.0 in /usr/local/lib/python3.10/dist-packages (from -r requirements.txt (line 28)) (0.13.1)\n",
      "Requirement already satisfied: setuptools>=65.5.1 in /usr/local/lib/python3.10/dist-packages (from -r requirements.txt (line 42)) (67.7.2)\n",
      "Collecting gitdb<5,>=4.0.1 (from gitpython>=3.1.30->-r requirements.txt (line 5))\n",
      "  Downloading gitdb-4.0.11-py3-none-any.whl (62 kB)\n",
      "\u001B[2K     \u001B[90m━━━━━━━━━━━━━━━━━━━━━━━━━━━━━━━━━━━━━━━━\u001B[0m \u001B[32m62.7/62.7 kB\u001B[0m \u001B[31m9.7 MB/s\u001B[0m eta \u001B[36m0:00:00\u001B[0m\n",
      "\u001B[?25hRequirement already satisfied: contourpy>=1.0.1 in /usr/local/lib/python3.10/dist-packages (from matplotlib>=3.3->-r requirements.txt (line 6)) (1.2.1)\n",
      "Requirement already satisfied: cycler>=0.10 in /usr/local/lib/python3.10/dist-packages (from matplotlib>=3.3->-r requirements.txt (line 6)) (0.12.1)\n",
      "Requirement already satisfied: fonttools>=4.22.0 in /usr/local/lib/python3.10/dist-packages (from matplotlib>=3.3->-r requirements.txt (line 6)) (4.53.0)\n",
      "Requirement already satisfied: kiwisolver>=1.0.1 in /usr/local/lib/python3.10/dist-packages (from matplotlib>=3.3->-r requirements.txt (line 6)) (1.4.5)\n",
      "Requirement already satisfied: packaging>=20.0 in /usr/local/lib/python3.10/dist-packages (from matplotlib>=3.3->-r requirements.txt (line 6)) (24.1)\n",
      "Requirement already satisfied: pyparsing>=2.3.1 in /usr/local/lib/python3.10/dist-packages (from matplotlib>=3.3->-r requirements.txt (line 6)) (3.1.2)\n",
      "Requirement already satisfied: python-dateutil>=2.7 in /usr/local/lib/python3.10/dist-packages (from matplotlib>=3.3->-r requirements.txt (line 6)) (2.8.2)\n",
      "Requirement already satisfied: charset-normalizer<4,>=2 in /usr/local/lib/python3.10/dist-packages (from requests>=2.32.0->-r requirements.txt (line 12)) (3.3.2)\n",
      "Requirement already satisfied: idna<4,>=2.5 in /usr/local/lib/python3.10/dist-packages (from requests>=2.32.0->-r requirements.txt (line 12)) (3.7)\n",
      "Requirement already satisfied: urllib3<3,>=1.21.1 in /usr/local/lib/python3.10/dist-packages (from requests>=2.32.0->-r requirements.txt (line 12)) (2.0.7)\n",
      "Requirement already satisfied: certifi>=2017.4.17 in /usr/local/lib/python3.10/dist-packages (from requests>=2.32.0->-r requirements.txt (line 12)) (2024.6.2)\n",
      "Requirement already satisfied: filelock in /usr/local/lib/python3.10/dist-packages (from torch>=1.8.0->-r requirements.txt (line 15)) (3.15.3)\n",
      "Requirement already satisfied: typing-extensions>=4.8.0 in /usr/local/lib/python3.10/dist-packages (from torch>=1.8.0->-r requirements.txt (line 15)) (4.12.2)\n",
      "Requirement already satisfied: sympy in /usr/local/lib/python3.10/dist-packages (from torch>=1.8.0->-r requirements.txt (line 15)) (1.12.1)\n",
      "Requirement already satisfied: networkx in /usr/local/lib/python3.10/dist-packages (from torch>=1.8.0->-r requirements.txt (line 15)) (3.3)\n",
      "Requirement already satisfied: jinja2 in /usr/local/lib/python3.10/dist-packages (from torch>=1.8.0->-r requirements.txt (line 15)) (3.1.4)\n",
      "Requirement already satisfied: fsspec in /usr/local/lib/python3.10/dist-packages (from torch>=1.8.0->-r requirements.txt (line 15)) (2023.6.0)\n",
      "Collecting nvidia-cuda-nvrtc-cu12==12.1.105 (from torch>=1.8.0->-r requirements.txt (line 15))\n",
      "  Using cached nvidia_cuda_nvrtc_cu12-12.1.105-py3-none-manylinux1_x86_64.whl (23.7 MB)\n",
      "Collecting nvidia-cuda-runtime-cu12==12.1.105 (from torch>=1.8.0->-r requirements.txt (line 15))\n",
      "  Using cached nvidia_cuda_runtime_cu12-12.1.105-py3-none-manylinux1_x86_64.whl (823 kB)\n",
      "Collecting nvidia-cuda-cupti-cu12==12.1.105 (from torch>=1.8.0->-r requirements.txt (line 15))\n",
      "  Using cached nvidia_cuda_cupti_cu12-12.1.105-py3-none-manylinux1_x86_64.whl (14.1 MB)\n",
      "Collecting nvidia-cudnn-cu12==8.9.2.26 (from torch>=1.8.0->-r requirements.txt (line 15))\n",
      "  Using cached nvidia_cudnn_cu12-8.9.2.26-py3-none-manylinux1_x86_64.whl (731.7 MB)\n",
      "Collecting nvidia-cublas-cu12==12.1.3.1 (from torch>=1.8.0->-r requirements.txt (line 15))\n",
      "  Using cached nvidia_cublas_cu12-12.1.3.1-py3-none-manylinux1_x86_64.whl (410.6 MB)\n",
      "Collecting nvidia-cufft-cu12==11.0.2.54 (from torch>=1.8.0->-r requirements.txt (line 15))\n",
      "  Using cached nvidia_cufft_cu12-11.0.2.54-py3-none-manylinux1_x86_64.whl (121.6 MB)\n",
      "Collecting nvidia-curand-cu12==10.3.2.106 (from torch>=1.8.0->-r requirements.txt (line 15))\n",
      "  Using cached nvidia_curand_cu12-10.3.2.106-py3-none-manylinux1_x86_64.whl (56.5 MB)\n",
      "Collecting nvidia-cusolver-cu12==11.4.5.107 (from torch>=1.8.0->-r requirements.txt (line 15))\n",
      "  Using cached nvidia_cusolver_cu12-11.4.5.107-py3-none-manylinux1_x86_64.whl (124.2 MB)\n",
      "Collecting nvidia-cusparse-cu12==12.1.0.106 (from torch>=1.8.0->-r requirements.txt (line 15))\n",
      "  Using cached nvidia_cusparse_cu12-12.1.0.106-py3-none-manylinux1_x86_64.whl (196.0 MB)\n",
      "Collecting nvidia-nccl-cu12==2.20.5 (from torch>=1.8.0->-r requirements.txt (line 15))\n",
      "  Using cached nvidia_nccl_cu12-2.20.5-py3-none-manylinux2014_x86_64.whl (176.2 MB)\n",
      "Collecting nvidia-nvtx-cu12==12.1.105 (from torch>=1.8.0->-r requirements.txt (line 15))\n",
      "  Using cached nvidia_nvtx_cu12-12.1.105-py3-none-manylinux1_x86_64.whl (99 kB)\n",
      "Requirement already satisfied: triton==2.3.0 in /usr/local/lib/python3.10/dist-packages (from torch>=1.8.0->-r requirements.txt (line 15)) (2.3.0)\n",
      "Collecting nvidia-nvjitlink-cu12 (from nvidia-cusolver-cu12==11.4.5.107->torch>=1.8.0->-r requirements.txt (line 15))\n",
      "  Downloading nvidia_nvjitlink_cu12-12.5.40-py3-none-manylinux2014_x86_64.whl (21.3 MB)\n",
      "\u001B[2K     \u001B[90m━━━━━━━━━━━━━━━━━━━━━━━━━━━━━━━━━━━━━━━━\u001B[0m \u001B[32m21.3/21.3 MB\u001B[0m \u001B[31m65.5 MB/s\u001B[0m eta \u001B[36m0:00:00\u001B[0m\n",
      "\u001B[?25hRequirement already satisfied: py-cpuinfo in /usr/local/lib/python3.10/dist-packages (from ultralytics>=8.2.34->-r requirements.txt (line 18)) (9.0.0)\n",
      "Collecting ultralytics-thop>=2.0.0 (from ultralytics>=8.2.34->-r requirements.txt (line 18))\n",
      "  Downloading ultralytics_thop-2.0.0-py3-none-any.whl (25 kB)\n",
      "Requirement already satisfied: pytz>=2020.1 in /usr/local/lib/python3.10/dist-packages (from pandas>=1.1.4->-r requirements.txt (line 27)) (2023.4)\n",
      "Requirement already satisfied: tzdata>=2022.1 in /usr/local/lib/python3.10/dist-packages (from pandas>=1.1.4->-r requirements.txt (line 27)) (2024.1)\n",
      "Collecting smmap<6,>=3.0.1 (from gitdb<5,>=4.0.1->gitpython>=3.1.30->-r requirements.txt (line 5))\n",
      "  Downloading smmap-5.0.1-py3-none-any.whl (24 kB)\n",
      "Requirement already satisfied: six>=1.5 in /usr/local/lib/python3.10/dist-packages (from python-dateutil>=2.7->matplotlib>=3.3->-r requirements.txt (line 6)) (1.16.0)\n",
      "Requirement already satisfied: MarkupSafe>=2.0 in /usr/local/lib/python3.10/dist-packages (from jinja2->torch>=1.8.0->-r requirements.txt (line 15)) (2.1.5)\n",
      "Requirement already satisfied: mpmath<1.4.0,>=1.1.0 in /usr/local/lib/python3.10/dist-packages (from sympy->torch>=1.8.0->-r requirements.txt (line 15)) (1.3.0)\n",
      "Installing collected packages: smmap, requests, pillow, nvidia-nvtx-cu12, nvidia-nvjitlink-cu12, nvidia-nccl-cu12, nvidia-curand-cu12, nvidia-cufft-cu12, nvidia-cuda-runtime-cu12, nvidia-cuda-nvrtc-cu12, nvidia-cuda-cupti-cu12, nvidia-cublas-cu12, nvidia-cusparse-cu12, nvidia-cudnn-cu12, gitdb, nvidia-cusolver-cu12, gitpython, ultralytics-thop, thop, ultralytics\n",
      "  Attempting uninstall: requests\n",
      "    Found existing installation: requests 2.31.0\n",
      "    Uninstalling requests-2.31.0:\n",
      "      Successfully uninstalled requests-2.31.0\n",
      "  Attempting uninstall: pillow\n",
      "    Found existing installation: Pillow 9.4.0\n",
      "    Uninstalling Pillow-9.4.0:\n",
      "      Successfully uninstalled Pillow-9.4.0\n",
      "\u001B[31mERROR: pip's dependency resolver does not currently take into account all the packages that are installed. This behaviour is the source of the following dependency conflicts.\n",
      "google-colab 1.0.0 requires requests==2.31.0, but you have requests 2.32.3 which is incompatible.\n",
      "imageio 2.31.6 requires pillow<10.1.0,>=8.3.2, but you have pillow 10.3.0 which is incompatible.\u001B[0m\u001B[31m\n",
      "\u001B[0mSuccessfully installed gitdb-4.0.11 gitpython-3.1.43 nvidia-cublas-cu12-12.1.3.1 nvidia-cuda-cupti-cu12-12.1.105 nvidia-cuda-nvrtc-cu12-12.1.105 nvidia-cuda-runtime-cu12-12.1.105 nvidia-cudnn-cu12-8.9.2.26 nvidia-cufft-cu12-11.0.2.54 nvidia-curand-cu12-10.3.2.106 nvidia-cusolver-cu12-11.4.5.107 nvidia-cusparse-cu12-12.1.0.106 nvidia-nccl-cu12-2.20.5 nvidia-nvjitlink-cu12-12.5.40 nvidia-nvtx-cu12-12.1.105 pillow-10.3.0 requests-2.32.3 smmap-5.0.1 thop-0.1.1.post2209072238 ultralytics-8.2.45 ultralytics-thop-2.0.0\n"
     ]
    }
   ]
  },
  {
   "cell_type": "code",
   "source": [
    "!ls"
   ],
   "metadata": {
    "colab": {
     "base_uri": "https://localhost:8080/"
    },
    "id": "STJirmnvHkYa",
    "outputId": "95586fd1-a0a4-4059-f755-1b5e33f23f3d"
   },
   "execution_count": null,
   "outputs": [
    {
     "output_type": "stream",
     "name": "stdout",
     "text": [
      "animals-detection-images-dataset.zip  drive  sample_data  test\ttrain  yolov5\n"
     ]
    }
   ]
  },
  {
   "cell_type": "markdown",
   "source": [
    "# YOLOv5 fitting"
   ],
   "metadata": {
    "id": "nlzjHh4GGD_v"
   }
  },
  {
   "cell_type": "code",
   "source": [
    "!python ./yolov5/train.py --data coco128.yaml --epochs 1000 --weights '' --cfg yolov5n.yaml  --batch-size 64"
   ],
   "metadata": {
    "colab": {
     "base_uri": "https://localhost:8080/"
    },
    "id": "IGlthPmJZA7b",
    "outputId": "bfbadda9-33a3-4007-d178-d583bf1fa151"
   },
   "execution_count": 4,
   "outputs": [
    {
     "output_type": "stream",
     "name": "stdout",
     "text": [
      "      Epoch    GPU_mem   box_loss   obj_loss   cls_loss  Instances       Size\n",
      "    993/999      9.74G    0.04597    0.05372    0.01889       1004        640: 100% 2/2 [00:00<00:00,  3.18it/s]\n",
      "                 Class     Images  Instances          P          R      mAP50   mAP50-95: 100% 1/1 [00:01<00:00,  1.17s/it]\n",
      "                   all        128        929      0.811      0.718      0.804      0.553\n",
      "\n",
      "      Epoch    GPU_mem   box_loss   obj_loss   cls_loss  Instances       Size\n",
      "    994/999      9.74G    0.04573    0.04569    0.02117        809        640: 100% 2/2 [00:00<00:00,  3.24it/s]\n",
      "                 Class     Images  Instances          P          R      mAP50   mAP50-95: 100% 1/1 [00:01<00:00,  1.20s/it]\n",
      "                   all        128        929       0.81      0.698      0.802      0.554\n",
      "\n",
      "      Epoch    GPU_mem   box_loss   obj_loss   cls_loss  Instances       Size\n",
      "    995/999      9.74G    0.04746    0.05466    0.02103        831        640: 100% 2/2 [00:00<00:00,  3.22it/s]\n",
      "                 Class     Images  Instances          P          R      mAP50   mAP50-95: 100% 1/1 [00:01<00:00,  1.12s/it]\n",
      "                   all        128        929      0.813      0.698      0.801      0.551\n",
      "\n",
      "      Epoch    GPU_mem   box_loss   obj_loss   cls_loss  Instances       Size\n",
      "    996/999      9.74G     0.0453    0.04989     0.0206        836        640: 100% 2/2 [00:00<00:00,  3.24it/s]\n",
      "                 Class     Images  Instances          P          R      mAP50   mAP50-95: 100% 1/1 [00:01<00:00,  1.27s/it]\n",
      "                   all        128        929      0.849      0.677      0.802      0.555\n",
      "\n",
      "      Epoch    GPU_mem   box_loss   obj_loss   cls_loss  Instances       Size\n",
      "    997/999      9.74G    0.04754    0.05275    0.02081        831        640: 100% 2/2 [00:00<00:00,  3.13it/s]\n",
      "                 Class     Images  Instances          P          R      mAP50   mAP50-95: 100% 1/1 [00:01<00:00,  1.18s/it]\n",
      "                   all        128        929      0.849      0.677      0.804      0.557\n",
      "\n",
      "      Epoch    GPU_mem   box_loss   obj_loss   cls_loss  Instances       Size\n",
      "    998/999      9.74G    0.04778    0.05364    0.02114        943        640: 100% 2/2 [00:00<00:00,  3.22it/s]\n",
      "                 Class     Images  Instances          P          R      mAP50   mAP50-95: 100% 1/1 [00:01<00:00,  1.11s/it]\n",
      "                   all        128        929       0.85      0.672        0.8      0.555\n",
      "\n",
      "      Epoch    GPU_mem   box_loss   obj_loss   cls_loss  Instances       Size\n",
      "    999/999      9.74G     0.0464     0.0502    0.02137        765        640: 100% 2/2 [00:00<00:00,  3.22it/s]\n",
      "                 Class     Images  Instances          P          R      mAP50   mAP50-95: 100% 1/1 [00:01<00:00,  1.11s/it]\n",
      "                   all        128        929      0.845      0.677      0.799      0.557\n",
      "\n",
      "1000 epochs completed in 0.662 hours.\n",
      "Optimizer stripped from yolov5/runs/train/exp5/weights/last.pt, 4.1MB\n",
      "Optimizer stripped from yolov5/runs/train/exp5/weights/best.pt, 4.1MB\n",
      "\n",
      "Validating yolov5/runs/train/exp5/weights/best.pt...\n",
      "Fusing layers... \n",
      "YOLOv5n summary: 157 layers, 1867405 parameters, 0 gradients, 4.5 GFLOPs\n",
      "                 Class     Images  Instances          P          R      mAP50   mAP50-95: 100% 1/1 [00:01<00:00,  1.30s/it]\n",
      "                   all        128        929      0.793      0.723      0.801      0.559\n",
      "                person        128        254      0.728      0.894      0.898       0.62\n",
      "               bicycle        128          6          1      0.272      0.448      0.218\n",
      "                   car        128         46      0.726      0.587      0.598      0.273\n",
      "            motorcycle        128          5          1      0.955      0.995      0.823\n",
      "              airplane        128          6          1      0.657      0.931      0.638\n",
      "                   bus        128          7       0.89      0.714      0.795      0.634\n",
      "                 train        128          3        0.9          1      0.995      0.686\n",
      "                 truck        128         12      0.709       0.61      0.821      0.528\n",
      "                  boat        128          6      0.831      0.822      0.858       0.45\n",
      "         traffic light        128         14      0.689      0.429      0.487      0.279\n",
      "             stop sign        128          2          1          0      0.256      0.128\n",
      "                 bench        128          9      0.746      0.889        0.9      0.588\n",
      "                  bird        128         16      0.948          1      0.995      0.735\n",
      "                   cat        128          4      0.904          1      0.995      0.755\n",
      "                   dog        128          9      0.558      0.778      0.846      0.658\n",
      "                 horse        128          2      0.804          1      0.995      0.721\n",
      "              elephant        128         17      0.855      0.941      0.939      0.692\n",
      "                  bear        128          1      0.844          1      0.995      0.895\n",
      "                 zebra        128          4      0.883          1      0.995      0.865\n",
      "               giraffe        128          9          1      0.853      0.968      0.737\n",
      "              backpack        128          6      0.677      0.702      0.874      0.612\n",
      "              umbrella        128         18       0.71      0.944      0.941      0.623\n",
      "               handbag        128         19      0.737      0.684      0.677      0.443\n",
      "                   tie        128          7      0.669      0.578      0.786      0.576\n",
      "              suitcase        128          4      0.629          1      0.995      0.858\n",
      "               frisbee        128          5      0.722        0.2      0.563      0.389\n",
      "                  skis        128          1          1          0      0.995      0.597\n",
      "             snowboard        128          7      0.858      0.857      0.862      0.628\n",
      "           sports ball        128          6          1          0      0.139     0.0697\n",
      "                  kite        128         10      0.464      0.781      0.562      0.269\n",
      "          baseball bat        128          4          1          0      0.133     0.0923\n",
      "        baseball glove        128          7          1          0      0.333      0.172\n",
      "            skateboard        128          5       0.58      0.296      0.706      0.505\n",
      "         tennis racket        128          7      0.958      0.143       0.27      0.164\n",
      "                bottle        128         18      0.548      0.741      0.685      0.347\n",
      "            wine glass        128         16      0.694      0.993      0.867      0.448\n",
      "                   cup        128         36      0.682      0.972       0.92      0.603\n",
      "                  fork        128          6          1      0.631       0.82      0.616\n",
      "                 knife        128         16      0.662      0.812      0.811       0.38\n",
      "                 spoon        128         22      0.647      0.682      0.812      0.445\n",
      "                  bowl        128         28      0.913      0.745      0.809      0.606\n",
      "                banana        128          1      0.875          1      0.995      0.298\n",
      "              sandwich        128          2      0.815          1      0.995      0.796\n",
      "                orange        128          4      0.736          1      0.995      0.634\n",
      "              broccoli        128         11      0.683      0.909      0.907      0.535\n",
      "                carrot        128         24      0.754      0.896      0.914      0.616\n",
      "               hot dog        128          2      0.805          1      0.995      0.945\n",
      "                 pizza        128          5      0.771        0.6      0.928       0.68\n",
      "                 donut        128         14      0.898          1      0.995      0.868\n",
      "                  cake        128          4      0.863          1      0.995      0.879\n",
      "                 chair        128         35      0.805      0.943      0.965      0.671\n",
      "                 couch        128          6      0.822      0.833      0.942      0.617\n",
      "          potted plant        128         14        0.8          1      0.995      0.718\n",
      "                   bed        128          3      0.924          1      0.995       0.72\n",
      "          dining table        128         13       0.67      0.312      0.599      0.374\n",
      "                toilet        128          2      0.882        0.5      0.695      0.536\n",
      "                    tv        128          2      0.803          1      0.995      0.895\n",
      "                laptop        128          3      0.309      0.333      0.434       0.34\n",
      "                 mouse        128          2          1          0      0.181     0.0771\n",
      "                remote        128          8      0.869        0.5      0.604      0.414\n",
      "            cell phone        128          8      0.847      0.696      0.831      0.415\n",
      "             microwave        128          3      0.465      0.667      0.806      0.778\n",
      "                  oven        128          5      0.709          1      0.938      0.794\n",
      "                  sink        128          6      0.787      0.667      0.667      0.492\n",
      "          refrigerator        128          5      0.787          1      0.962      0.786\n",
      "                  book        128         29      0.622      0.793      0.769      0.424\n",
      "                 clock        128          9       0.75          1      0.995      0.703\n",
      "                  vase        128          2      0.653        0.5      0.543      0.437\n",
      "              scissors        128          1       0.96          1      0.995      0.398\n",
      "            teddy bear        128         21      0.844          1      0.991      0.741\n",
      "            toothbrush        128          5      0.644          1      0.995      0.767\n",
      "Results saved to \u001B[1myolov5/runs/train/exp5\u001B[0m\n"
     ]
    }
   ]
  },
  {
   "cell_type": "code",
   "source": [
    "!python ./yolov5/detect.py --weights /content/yolov5/runs/train/exp5/weights/best.pt --source ./images-3.jpeg"
   ],
   "metadata": {
    "colab": {
     "base_uri": "https://localhost:8080/"
    },
    "id": "ozdmWE0ChS5s",
    "outputId": "6a01fd5c-4395-4e8d-dec6-418ee98e60c6"
   },
   "execution_count": 10,
   "outputs": [
    {
     "output_type": "stream",
     "name": "stdout",
     "text": [
      "\u001B[34m\u001B[1mdetect: \u001B[0mweights=['/content/yolov5/runs/train/exp5/weights/best.pt'], source=./images-3.jpeg, data=yolov5/data/coco128.yaml, imgsz=[640, 640], conf_thres=0.25, iou_thres=0.45, max_det=1000, device=, view_img=False, save_txt=False, save_csv=False, save_conf=False, save_crop=False, nosave=False, classes=None, agnostic_nms=False, augment=False, visualize=False, update=False, project=yolov5/runs/detect, name=exp, exist_ok=False, line_thickness=3, hide_labels=False, hide_conf=False, half=False, dnn=False, vid_stride=1\n",
      "YOLOv5 🚀 v7.0-331-gab364c98 Python-3.10.12 torch-2.3.0+cu121 CUDA:0 (NVIDIA L4, 22700MiB)\n",
      "\n",
      "Fusing layers... \n",
      "YOLOv5n summary: 157 layers, 1867405 parameters, 0 gradients, 4.5 GFLOPs\n",
      "image 1/1 /content/images-3.jpeg: 448x640 (no detections), 99.9ms\n",
      "Speed: 0.6ms pre-process, 99.9ms inference, 13.0ms NMS per image at shape (1, 3, 640, 640)\n",
      "Results saved to \u001B[1myolov5/runs/detect/exp7\u001B[0m\n"
     ]
    }
   ]
  },
  {
   "cell_type": "code",
   "source": [
    "# !rm -r ./yolov5/data/"
   ],
   "metadata": {
    "id": "X7IeMpXeJX5r"
   },
   "execution_count": null,
   "outputs": []
  },
  {
   "cell_type": "code",
   "source": [
    "# !mkdir ./yolov5/data/"
   ],
   "metadata": {
    "id": "4z9zwq_mJfRt"
   },
   "execution_count": null,
   "outputs": []
  },
  {
   "cell_type": "code",
   "source": [
    "# !python train.py --data coco.yaml --epochs 300 --weights '' --cfg yolov5n.yaml  --batch-size 128"
   ],
   "metadata": {
    "id": "Rf-wlzuWGqy1"
   },
   "execution_count": null,
   "outputs": []
  },
  {
   "metadata": {},
   "cell_type": "markdown",
   "source": "# yolov5 -> torch model"
  },
  {
   "metadata": {
    "ExecuteTime": {
     "end_time": "2024-06-28T09:35:40.276537Z",
     "start_time": "2024-06-28T09:35:39.837355Z"
    }
   },
   "cell_type": "code",
   "source": "import cv2",
   "outputs": [],
   "execution_count": 1
  },
  {
   "metadata": {
    "ExecuteTime": {
     "end_time": "2024-06-28T09:35:40.281132Z",
     "start_time": "2024-06-28T09:35:40.277510Z"
    }
   },
   "cell_type": "code",
   "source": [
    "import sys\n",
    "sys.path.append(\"./yolov5/\") # import error fix"
   ],
   "outputs": [],
   "execution_count": 2
  },
  {
   "metadata": {
    "ExecuteTime": {
     "end_time": "2024-06-28T09:35:42.248569Z",
     "start_time": "2024-06-28T09:35:40.282932Z"
    }
   },
   "cell_type": "code",
   "source": "from model import Model",
   "outputs": [],
   "execution_count": 3
  },
  {
   "metadata": {
    "ExecuteTime": {
     "end_time": "2024-06-28T09:35:42.971574Z",
     "start_time": "2024-06-28T09:35:42.249173Z"
    }
   },
   "cell_type": "code",
   "source": "model = Model(\"./yolov5n.pt\")",
   "outputs": [
    {
     "name": "stderr",
     "output_type": "stream",
     "text": [
      "Fusing layers... \n",
      "YOLOv5n summary: 213 layers, 1867405 parameters, 0 gradients\n"
     ]
    }
   ],
   "execution_count": 4
  },
  {
   "metadata": {
    "ExecuteTime": {
     "end_time": "2024-06-28T09:35:52.671414Z",
     "start_time": "2024-06-28T09:35:42.973101Z"
    }
   },
   "cell_type": "code",
   "source": "model.predict_one_sample(source=\"./test_video.mp4\", return_frame=True, use_tqdm=False)",
   "outputs": [
    {
     "name": "stderr",
     "output_type": "stream",
     "text": [
      "YOLOv5 🚀 2024-6-27 Python-3.11.2 torch-2.0.1 CPU\n",
      "\n"
     ]
    },
    {
     "data": {
      "text/plain": [
       "0it [00:00, ?it/s]"
      ],
      "application/vnd.jupyter.widget-view+json": {
       "version_major": 2,
       "version_minor": 0,
       "model_id": "40b5532855a34a858248e8f5fb2e754e"
      }
     },
     "metadata": {},
     "output_type": "display_data"
    },
    {
     "name": "stderr",
     "output_type": "stream",
     "text": [
      "\n",
      "KeyboardInterrupt\n",
      "\n"
     ]
    }
   ],
   "execution_count": 5
  },
  {
   "metadata": {
    "ExecuteTime": {
     "end_time": "2024-06-27T16:53:30.194898Z",
     "start_time": "2024-06-27T16:53:30.193337Z"
    }
   },
   "cell_type": "code",
   "source": "cam = cv2.VideoCapture(\"test_video.mp4\")",
   "outputs": [],
   "execution_count": 138
  },
  {
   "metadata": {},
   "cell_type": "code",
   "outputs": [],
   "execution_count": null,
   "source": "frame = cam"
  },
  {
   "metadata": {
    "ExecuteTime": {
     "end_time": "2024-06-27T16:53:30.322032Z",
     "start_time": "2024-06-27T16:53:30.320046Z"
    }
   },
   "cell_type": "code",
   "source": "",
   "outputs": [],
   "execution_count": 138
  },
  {
   "metadata": {},
   "cell_type": "code",
   "outputs": [],
   "execution_count": null,
   "source": ""
  }
 ]
}
